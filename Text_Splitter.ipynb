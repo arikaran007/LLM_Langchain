{
  "nbformat": 4,
  "nbformat_minor": 0,
  "metadata": {
    "colab": {
      "provenance": [],
      "authorship_tag": "ABX9TyO/S711glVj3L8wCeWYOV8w",
      "include_colab_link": true
    },
    "kernelspec": {
      "name": "python3",
      "display_name": "Python 3"
    },
    "language_info": {
      "name": "python"
    }
  },
  "cells": [
    {
      "cell_type": "markdown",
      "metadata": {
        "id": "view-in-github",
        "colab_type": "text"
      },
      "source": [
        "<a href=\"https://colab.research.google.com/github/arikaran007/LLM_Langchain/blob/main/Text_Splitter.ipynb\" target=\"_parent\"><img src=\"https://colab.research.google.com/assets/colab-badge.svg\" alt=\"Open In Colab\"/></a>"
      ]
    },
    {
      "cell_type": "code",
      "execution_count": 1,
      "metadata": {
        "id": "4HdMRGhzLDvy"
      },
      "outputs": [],
      "source": [
        "text = \"\"\" The maximum speed on the world-class highways coming up in India will remain at the existing 120kmph in the interest of safety, even though many of them have been tested for speeds as high as 160kmph.\n",
        "           The Union road ministry has decided to retain the speed limit of 120kmph and 100kmph for expressways and highways, respectively, two people aware of the development said. However, the ministry will await an apex court verdict on this matter before making a notification.\n",
        "           In April 2018, the government set speed limits of 120kmph for expressways, 100kmph for national highways and 60kmph for urban roads. However, the Madras High Court quashed the order in 2021, stating these speeds were too high. The matter is now in the Supreme Court.\n",
        "           The Ministry of Road Transport and Highways (MoRTH) has internally decided to keep speed limits on highways at the levels decided in 2018 to give more time for highway driving to get mature and disciplined,\" one of the two people cited above said on the condition of anonymity.\n",
        "\n",
        "“The proposed speed limits are still among the best globally and are considered sufficient for ensuring logistics efficiency, as it would double the average speed of truck movement on highways from the present 40kmph to 80kmph,\" he added.\n",
        "\n",
        "A query sent to a road ministry spokesperson remained unanswered till press time.\n",
        "\n",
        "The Motor Vehicles Act empowers MoRTH to set speed limits across the country; however, the subject falls in the concurrent list, meaning states also get to decide on the matter\"\"\""
      ]
    },
    {
      "cell_type": "code",
      "source": [
        "from langchain.text_splitter import CharacterTextSplitter\n",
        "\n",
        "splitter = CharacterTextSplitter(\n",
        "    separator=\"\\n\",\n",
        "    chunk_size=200,\n",
        "    chunk_overlap=0\n",
        ")"
      ],
      "metadata": {
        "id": "3EEoAmk9MX2Q"
      },
      "execution_count": 4,
      "outputs": []
    },
    {
      "cell_type": "code",
      "source": [
        "chunks = splitter.split_text(text)\n",
        "len(chunks)"
      ],
      "metadata": {
        "colab": {
          "base_uri": "https://localhost:8080/"
        },
        "id": "pCWTezmpOqld",
        "outputId": "03827e25-102a-416a-8d82-f905146529d1"
      },
      "execution_count": 8,
      "outputs": [
        {
          "output_type": "stream",
          "name": "stderr",
          "text": [
            "WARNING:langchain.text_splitter:Created a chunk of size 201, which is longer than the specified 200\n",
            "WARNING:langchain.text_splitter:Created a chunk of size 281, which is longer than the specified 200\n",
            "WARNING:langchain.text_splitter:Created a chunk of size 277, which is longer than the specified 200\n",
            "WARNING:langchain.text_splitter:Created a chunk of size 288, which is longer than the specified 200\n",
            "WARNING:langchain.text_splitter:Created a chunk of size 238, which is longer than the specified 200\n"
          ]
        },
        {
          "output_type": "execute_result",
          "data": {
            "text/plain": [
              "7"
            ]
          },
          "metadata": {},
          "execution_count": 8
        }
      ]
    },
    {
      "cell_type": "code",
      "source": [
        "for chunk in chunks:\n",
        "  print(len(chunk))"
      ],
      "metadata": {
        "colab": {
          "base_uri": "https://localhost:8080/"
        },
        "id": "Mn-2j26MOqh5",
        "outputId": "b6a6bf80-9c3e-4c56-97ce-923998cb1b86"
      },
      "execution_count": 13,
      "outputs": [
        {
          "output_type": "stream",
          "name": "stdout",
          "text": [
            "200\n",
            "270\n",
            "266\n",
            "277\n",
            "238\n",
            "81\n",
            "176\n"
          ]
        }
      ]
    },
    {
      "cell_type": "markdown",
      "source": [
        "As you can see, all though we gave 200 as a chunk size since the split was based on \\n, it ended up creating chunks that are bigger than size 200.\n",
        "\n",
        "Another class from Langchain can be used to recursively split the text based on a list of separators. This class is RecursiveTextSplitter. Let's see how it works"
      ],
      "metadata": {
        "id": "ZhuGFyfmPfs-"
      }
    },
    {
      "cell_type": "markdown",
      "source": [
        "# RecursiveTextSpliiter"
      ],
      "metadata": {
        "id": "rOTJioqNPhko"
      }
    },
    {
      "cell_type": "code",
      "source": [
        "from langchain.text_splitter import RecursiveCharacterTextSplitter\n",
        "\n",
        "r_splitter = RecursiveCharacterTextSplitter(\n",
        "    separators = [\"\\n\\n\",\"\\n\",\" \"],\n",
        "    chunk_size=200,\n",
        "    chunk_overlap=0\n",
        ")"
      ],
      "metadata": {
        "id": "lzbT1ZHGOqT3"
      },
      "execution_count": 15,
      "outputs": []
    },
    {
      "cell_type": "code",
      "source": [
        "chunks = r_splitter.split_text(text)\n",
        "\n",
        "for chunk in chunks:\n",
        "    print(len(chunk))"
      ],
      "metadata": {
        "colab": {
          "base_uri": "https://localhost:8080/"
        },
        "id": "eWAnR5BePrBc",
        "outputId": "b33da83d-da16-4e85-9a61-dfc3af35b036"
      },
      "execution_count": 33,
      "outputs": [
        {
          "output_type": "stream",
          "name": "stdout",
          "text": [
            "191\n",
            "8\n",
            "183\n",
            "86\n",
            "184\n",
            "81\n",
            "182\n",
            "94\n",
            "197\n",
            "40\n",
            "81\n",
            "176\n"
          ]
        }
      ]
    },
    {
      "cell_type": "code",
      "source": [
        "first_split = text.split(\"\\n\\n\")[0]\n",
        "first_split\n"
      ],
      "metadata": {
        "colab": {
          "base_uri": "https://localhost:8080/",
          "height": 145
        },
        "id": "bIKlRyDJPq60",
        "outputId": "ace510af-4407-4258-acb1-57af0ca2b7b3"
      },
      "execution_count": 23,
      "outputs": [
        {
          "output_type": "execute_result",
          "data": {
            "text/plain": [
              "' The maximum speed on the world-class highways coming up in India will remain at the existing 120kmph in the interest of safety, even though many of them have been tested for speeds as high as 160kmph.\\n           The Union road ministry has decided to retain the speed limit of 120kmph and 100kmph for expressways and highways, respectively, two people aware of the development said. However, the ministry will await an apex court verdict on this matter before making a notification.\\n           In April 2018, the government set speed limits of 120kmph for expressways, 100kmph for national highways and 60kmph for urban roads. However, the Madras High Court quashed the order in 2021, stating these speeds were too high. The matter is now in the Supreme Court.\\n           The Ministry of Road Transport and Highways (MoRTH) has internally decided to keep speed limits on highways at the levels decided in 2018 to give more time for highway driving to get mature and disciplined,\" one of the two people cited above said on the condition of anonymity.'"
            ],
            "application/vnd.google.colaboratory.intrinsic+json": {
              "type": "string"
            }
          },
          "metadata": {},
          "execution_count": 23
        }
      ]
    },
    {
      "cell_type": "code",
      "source": [
        "len(first_split)\n"
      ],
      "metadata": {
        "colab": {
          "base_uri": "https://localhost:8080/"
        },
        "id": "eivZZQOQPqxP",
        "outputId": "f6271544-f4d7-4236-f7ea-0b4573117d7c"
      },
      "execution_count": 24,
      "outputs": [
        {
          "output_type": "execute_result",
          "data": {
            "text/plain": [
              "1050"
            ]
          },
          "metadata": {},
          "execution_count": 24
        }
      ]
    },
    {
      "cell_type": "code",
      "source": [
        "second_split = first_split.split(\"\\n\")\n",
        "second_split"
      ],
      "metadata": {
        "colab": {
          "base_uri": "https://localhost:8080/"
        },
        "id": "JRFYwukmPqlr",
        "outputId": "fbf25b49-49ad-4d57-dca3-027eec159ea6"
      },
      "execution_count": 25,
      "outputs": [
        {
          "output_type": "execute_result",
          "data": {
            "text/plain": [
              "[' The maximum speed on the world-class highways coming up in India will remain at the existing 120kmph in the interest of safety, even though many of them have been tested for speeds as high as 160kmph.',\n",
              " '           The Union road ministry has decided to retain the speed limit of 120kmph and 100kmph for expressways and highways, respectively, two people aware of the development said. However, the ministry will await an apex court verdict on this matter before making a notification.',\n",
              " '           In April 2018, the government set speed limits of 120kmph for expressways, 100kmph for national highways and 60kmph for urban roads. However, the Madras High Court quashed the order in 2021, stating these speeds were too high. The matter is now in the Supreme Court.',\n",
              " '           The Ministry of Road Transport and Highways (MoRTH) has internally decided to keep speed limits on highways at the levels decided in 2018 to give more time for highway driving to get mature and disciplined,\" one of the two people cited above said on the condition of anonymity.']"
            ]
          },
          "metadata": {},
          "execution_count": 25
        }
      ]
    },
    {
      "cell_type": "code",
      "source": [
        "len(second_split)"
      ],
      "metadata": {
        "colab": {
          "base_uri": "https://localhost:8080/"
        },
        "id": "UJNm8PZ8TehI",
        "outputId": "a2850230-b8d6-4c6d-d65b-bc6ad7b61655"
      },
      "execution_count": 26,
      "outputs": [
        {
          "output_type": "execute_result",
          "data": {
            "text/plain": [
              "4"
            ]
          },
          "metadata": {},
          "execution_count": 26
        }
      ]
    },
    {
      "cell_type": "code",
      "source": [
        "for split in second_split:\n",
        "    print(len(split))"
      ],
      "metadata": {
        "colab": {
          "base_uri": "https://localhost:8080/"
        },
        "id": "XXH1p5GATecv",
        "outputId": "1f77849a-7d1f-4c66-968b-863c360c867f"
      },
      "execution_count": 27,
      "outputs": [
        {
          "output_type": "stream",
          "name": "stdout",
          "text": [
            "201\n",
            "281\n",
            "277\n",
            "288\n"
          ]
        }
      ]
    },
    {
      "cell_type": "code",
      "source": [],
      "metadata": {
        "id": "CqfcIQwwTpf_"
      },
      "execution_count": null,
      "outputs": []
    },
    {
      "cell_type": "code",
      "source": [
        "pip install langchain"
      ],
      "metadata": {
        "colab": {
          "base_uri": "https://localhost:8080/"
        },
        "id": "fT9vxRy9OicA",
        "outputId": "cf9089e0-ce36-4a6a-9527-77d30878badc"
      },
      "execution_count": 3,
      "outputs": [
        {
          "output_type": "stream",
          "name": "stdout",
          "text": [
            "Collecting langchain\n",
            "  Downloading langchain-0.0.300-py3-none-any.whl (1.7 MB)\n",
            "\u001b[2K     \u001b[90m━━━━━━━━━━━━━━━━━━━━━━━━━━━━━━━━━━━━━━━━\u001b[0m \u001b[32m1.7/1.7 MB\u001b[0m \u001b[31m10.3 MB/s\u001b[0m eta \u001b[36m0:00:00\u001b[0m\n",
            "\u001b[?25hRequirement already satisfied: PyYAML>=5.3 in /usr/local/lib/python3.10/dist-packages (from langchain) (6.0.1)\n",
            "Requirement already satisfied: SQLAlchemy<3,>=1.4 in /usr/local/lib/python3.10/dist-packages (from langchain) (2.0.20)\n",
            "Requirement already satisfied: aiohttp<4.0.0,>=3.8.3 in /usr/local/lib/python3.10/dist-packages (from langchain) (3.8.5)\n",
            "Requirement already satisfied: anyio<4.0 in /usr/local/lib/python3.10/dist-packages (from langchain) (3.7.1)\n",
            "Requirement already satisfied: async-timeout<5.0.0,>=4.0.0 in /usr/local/lib/python3.10/dist-packages (from langchain) (4.0.3)\n",
            "Collecting dataclasses-json<0.7,>=0.5.7 (from langchain)\n",
            "  Downloading dataclasses_json-0.6.0-py3-none-any.whl (27 kB)\n",
            "Collecting jsonpatch<2.0,>=1.33 (from langchain)\n",
            "  Downloading jsonpatch-1.33-py2.py3-none-any.whl (12 kB)\n",
            "Collecting langsmith<0.1.0,>=0.0.38 (from langchain)\n",
            "  Downloading langsmith-0.0.40-py3-none-any.whl (39 kB)\n",
            "Requirement already satisfied: numexpr<3.0.0,>=2.8.4 in /usr/local/lib/python3.10/dist-packages (from langchain) (2.8.5)\n",
            "Requirement already satisfied: numpy<2,>=1 in /usr/local/lib/python3.10/dist-packages (from langchain) (1.23.5)\n",
            "Requirement already satisfied: pydantic<3,>=1 in /usr/local/lib/python3.10/dist-packages (from langchain) (1.10.12)\n",
            "Requirement already satisfied: requests<3,>=2 in /usr/local/lib/python3.10/dist-packages (from langchain) (2.31.0)\n",
            "Requirement already satisfied: tenacity<9.0.0,>=8.1.0 in /usr/local/lib/python3.10/dist-packages (from langchain) (8.2.3)\n",
            "Requirement already satisfied: attrs>=17.3.0 in /usr/local/lib/python3.10/dist-packages (from aiohttp<4.0.0,>=3.8.3->langchain) (23.1.0)\n",
            "Requirement already satisfied: charset-normalizer<4.0,>=2.0 in /usr/local/lib/python3.10/dist-packages (from aiohttp<4.0.0,>=3.8.3->langchain) (3.2.0)\n",
            "Requirement already satisfied: multidict<7.0,>=4.5 in /usr/local/lib/python3.10/dist-packages (from aiohttp<4.0.0,>=3.8.3->langchain) (6.0.4)\n",
            "Requirement already satisfied: yarl<2.0,>=1.0 in /usr/local/lib/python3.10/dist-packages (from aiohttp<4.0.0,>=3.8.3->langchain) (1.9.2)\n",
            "Requirement already satisfied: frozenlist>=1.1.1 in /usr/local/lib/python3.10/dist-packages (from aiohttp<4.0.0,>=3.8.3->langchain) (1.4.0)\n",
            "Requirement already satisfied: aiosignal>=1.1.2 in /usr/local/lib/python3.10/dist-packages (from aiohttp<4.0.0,>=3.8.3->langchain) (1.3.1)\n",
            "Requirement already satisfied: idna>=2.8 in /usr/local/lib/python3.10/dist-packages (from anyio<4.0->langchain) (3.4)\n",
            "Requirement already satisfied: sniffio>=1.1 in /usr/local/lib/python3.10/dist-packages (from anyio<4.0->langchain) (1.3.0)\n",
            "Requirement already satisfied: exceptiongroup in /usr/local/lib/python3.10/dist-packages (from anyio<4.0->langchain) (1.1.3)\n",
            "Collecting marshmallow<4.0.0,>=3.18.0 (from dataclasses-json<0.7,>=0.5.7->langchain)\n",
            "  Downloading marshmallow-3.20.1-py3-none-any.whl (49 kB)\n",
            "\u001b[2K     \u001b[90m━━━━━━━━━━━━━━━━━━━━━━━━━━━━━━━━━━━━━━━━\u001b[0m \u001b[32m49.4/49.4 kB\u001b[0m \u001b[31m5.3 MB/s\u001b[0m eta \u001b[36m0:00:00\u001b[0m\n",
            "\u001b[?25hCollecting typing-inspect<1,>=0.4.0 (from dataclasses-json<0.7,>=0.5.7->langchain)\n",
            "  Downloading typing_inspect-0.9.0-py3-none-any.whl (8.8 kB)\n",
            "Collecting jsonpointer>=1.9 (from jsonpatch<2.0,>=1.33->langchain)\n",
            "  Downloading jsonpointer-2.4-py2.py3-none-any.whl (7.8 kB)\n",
            "Requirement already satisfied: typing-extensions>=4.2.0 in /usr/local/lib/python3.10/dist-packages (from pydantic<3,>=1->langchain) (4.5.0)\n",
            "Requirement already satisfied: urllib3<3,>=1.21.1 in /usr/local/lib/python3.10/dist-packages (from requests<3,>=2->langchain) (2.0.4)\n",
            "Requirement already satisfied: certifi>=2017.4.17 in /usr/local/lib/python3.10/dist-packages (from requests<3,>=2->langchain) (2023.7.22)\n",
            "Requirement already satisfied: greenlet!=0.4.17 in /usr/local/lib/python3.10/dist-packages (from SQLAlchemy<3,>=1.4->langchain) (2.0.2)\n",
            "Requirement already satisfied: packaging>=17.0 in /usr/local/lib/python3.10/dist-packages (from marshmallow<4.0.0,>=3.18.0->dataclasses-json<0.7,>=0.5.7->langchain) (23.1)\n",
            "Collecting mypy-extensions>=0.3.0 (from typing-inspect<1,>=0.4.0->dataclasses-json<0.7,>=0.5.7->langchain)\n",
            "  Downloading mypy_extensions-1.0.0-py3-none-any.whl (4.7 kB)\n",
            "Installing collected packages: mypy-extensions, marshmallow, jsonpointer, typing-inspect, langsmith, jsonpatch, dataclasses-json, langchain\n",
            "Successfully installed dataclasses-json-0.6.0 jsonpatch-1.33 jsonpointer-2.4 langchain-0.0.300 langsmith-0.0.40 marshmallow-3.20.1 mypy-extensions-1.0.0 typing-inspect-0.9.0\n"
          ]
        }
      ]
    },
    {
      "cell_type": "code",
      "source": [],
      "metadata": {
        "id": "bXILYLBvOo4g"
      },
      "execution_count": null,
      "outputs": []
    }
  ]
}